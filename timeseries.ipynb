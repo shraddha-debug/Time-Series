{
  "nbformat": 4,
  "nbformat_minor": 0,
  "metadata": {
    "colab": {
      "provenance": [],
      "collapsed_sections": [],
      "authorship_tag": "ABX9TyMIVYhI2jcS5BMPy41GCh0m",
      "include_colab_link": true
    },
    "kernelspec": {
      "name": "python3",
      "display_name": "Python 3"
    },
    "language_info": {
      "name": "python"
    }
  },
  "cells": [
    {
      "cell_type": "markdown",
      "metadata": {
        "id": "view-in-github",
        "colab_type": "text"
      },
      "source": [
        "<a href=\"https://colab.research.google.com/github/shraddha-debug/Time-Series/blob/main/timeseries.ipynb\" target=\"_parent\"><img src=\"https://colab.research.google.com/assets/colab-badge.svg\" alt=\"Open In Colab\"/></a>"
      ]
    },
    {
      "cell_type": "markdown",
      "source": [
        "**Shraddha Vasudeva\\\n",
        "101903790\\\n",
        "4CO12**\n",
        "\n",
        "---\n"
      ],
      "metadata": {
        "id": "anmmDusRHgYi"
      }
    },
    {
      "cell_type": "code",
      "source": [
        "import random\n",
        "import math\n",
        "import pandas as pd\n",
        "import numpy as np\n",
        "from sklearn.ensemble import ExtraTreesRegressor\n",
        "from sklearn.model_selection import cross_val_score\n",
        "from sklearn.metrics import mean_squared_error\n",
        "import matplotlib.pyplot as plt\n",
        "from matplotlib.pyplot import figure\n",
        "import warnings\n",
        "warnings.filterwarnings(\"ignore\")\n",
        "df = pd.read_excel(\"/content/DATASET.xlsx\")\n",
        "df"
      ],
      "metadata": {
        "colab": {
          "base_uri": "https://localhost:8080/",
          "height": 424
        },
        "id": "s4m28N3SLzoF",
        "outputId": "cffa17a1-fec8-49f5-d5a8-24ca8e33b894"
      },
      "execution_count": 34,
      "outputs": [
        {
          "output_type": "execute_result",
          "data": {
            "text/plain": [
              "     Unnamed: 0  year  Para-1  Para-2  Para-3  Para-4  Para-5  Para-6  Para-7  \\\n",
              "0         Sec_1     1   324.0   354.5    17.0     0.0       3     117    2600   \n",
              "1           NaN     2   324.0   161.1    18.2     0.0       4     106    5950   \n",
              "2           NaN     3   324.0   170.7    18.5     0.0       4     110    5950   \n",
              "3           NaN     4   324.0   223.9    18.9     0.0       3     110    6150   \n",
              "4           NaN     5   324.0   228.2    18.4     0.0       2     113    6340   \n",
              "...         ...   ...     ...     ...     ...     ...     ...     ...     ...   \n",
              "1004        NaN     6   454.0   931.8    13.6   125.0      13     116    4150   \n",
              "1005        NaN     7   454.0   703.0    14.5    17.0      13     118    4150   \n",
              "1006        NaN     8   454.0  1124.1    14.9    45.0      18     117    4200   \n",
              "1007        NaN     9   454.0  1462.3    13.2    62.0      27     117    4400   \n",
              "1008        NaN    10   454.0   986.3    14.3    67.0      24     122    4415   \n",
              "\n",
              "      Para-8  Para-9  Para-10  Para-11  Para-12  Para-13  \n",
              "0        400     0.0      0.0      0.0        0    1.520  \n",
              "1       1190     0.0      3.4      0.0        0    1.620  \n",
              "2       1190     0.0     21.3      0.0        4    1.680  \n",
              "3       1340     0.0     21.3      0.0        5    1.780  \n",
              "4       1450     0.0     23.9      0.0        7    1.800  \n",
              "...      ...     ...      ...      ...      ...      ...  \n",
              "1004     830    15.1      1.8      1.0       15    1.681  \n",
              "1005     830    24.6      7.9      2.0       15    1.838  \n",
              "1006     840   119.0     15.7      2.0       16    1.862  \n",
              "1007     720   138.2     30.5      6.0       18    1.883  \n",
              "1008     721   293.0     39.8      7.0       18    1.889  \n",
              "\n",
              "[1009 rows x 15 columns]"
            ],
            "text/html": [
              "\n",
              "  <div id=\"df-6c22a5df-3b13-47a2-8e9f-d4af03b1fa99\">\n",
              "    <div class=\"colab-df-container\">\n",
              "      <div>\n",
              "<style scoped>\n",
              "    .dataframe tbody tr th:only-of-type {\n",
              "        vertical-align: middle;\n",
              "    }\n",
              "\n",
              "    .dataframe tbody tr th {\n",
              "        vertical-align: top;\n",
              "    }\n",
              "\n",
              "    .dataframe thead th {\n",
              "        text-align: right;\n",
              "    }\n",
              "</style>\n",
              "<table border=\"1\" class=\"dataframe\">\n",
              "  <thead>\n",
              "    <tr style=\"text-align: right;\">\n",
              "      <th></th>\n",
              "      <th>Unnamed: 0</th>\n",
              "      <th>year</th>\n",
              "      <th>Para-1</th>\n",
              "      <th>Para-2</th>\n",
              "      <th>Para-3</th>\n",
              "      <th>Para-4</th>\n",
              "      <th>Para-5</th>\n",
              "      <th>Para-6</th>\n",
              "      <th>Para-7</th>\n",
              "      <th>Para-8</th>\n",
              "      <th>Para-9</th>\n",
              "      <th>Para-10</th>\n",
              "      <th>Para-11</th>\n",
              "      <th>Para-12</th>\n",
              "      <th>Para-13</th>\n",
              "    </tr>\n",
              "  </thead>\n",
              "  <tbody>\n",
              "    <tr>\n",
              "      <th>0</th>\n",
              "      <td>Sec_1</td>\n",
              "      <td>1</td>\n",
              "      <td>324.0</td>\n",
              "      <td>354.5</td>\n",
              "      <td>17.0</td>\n",
              "      <td>0.0</td>\n",
              "      <td>3</td>\n",
              "      <td>117</td>\n",
              "      <td>2600</td>\n",
              "      <td>400</td>\n",
              "      <td>0.0</td>\n",
              "      <td>0.0</td>\n",
              "      <td>0.0</td>\n",
              "      <td>0</td>\n",
              "      <td>1.520</td>\n",
              "    </tr>\n",
              "    <tr>\n",
              "      <th>1</th>\n",
              "      <td>NaN</td>\n",
              "      <td>2</td>\n",
              "      <td>324.0</td>\n",
              "      <td>161.1</td>\n",
              "      <td>18.2</td>\n",
              "      <td>0.0</td>\n",
              "      <td>4</td>\n",
              "      <td>106</td>\n",
              "      <td>5950</td>\n",
              "      <td>1190</td>\n",
              "      <td>0.0</td>\n",
              "      <td>3.4</td>\n",
              "      <td>0.0</td>\n",
              "      <td>0</td>\n",
              "      <td>1.620</td>\n",
              "    </tr>\n",
              "    <tr>\n",
              "      <th>2</th>\n",
              "      <td>NaN</td>\n",
              "      <td>3</td>\n",
              "      <td>324.0</td>\n",
              "      <td>170.7</td>\n",
              "      <td>18.5</td>\n",
              "      <td>0.0</td>\n",
              "      <td>4</td>\n",
              "      <td>110</td>\n",
              "      <td>5950</td>\n",
              "      <td>1190</td>\n",
              "      <td>0.0</td>\n",
              "      <td>21.3</td>\n",
              "      <td>0.0</td>\n",
              "      <td>4</td>\n",
              "      <td>1.680</td>\n",
              "    </tr>\n",
              "    <tr>\n",
              "      <th>3</th>\n",
              "      <td>NaN</td>\n",
              "      <td>4</td>\n",
              "      <td>324.0</td>\n",
              "      <td>223.9</td>\n",
              "      <td>18.9</td>\n",
              "      <td>0.0</td>\n",
              "      <td>3</td>\n",
              "      <td>110</td>\n",
              "      <td>6150</td>\n",
              "      <td>1340</td>\n",
              "      <td>0.0</td>\n",
              "      <td>21.3</td>\n",
              "      <td>0.0</td>\n",
              "      <td>5</td>\n",
              "      <td>1.780</td>\n",
              "    </tr>\n",
              "    <tr>\n",
              "      <th>4</th>\n",
              "      <td>NaN</td>\n",
              "      <td>5</td>\n",
              "      <td>324.0</td>\n",
              "      <td>228.2</td>\n",
              "      <td>18.4</td>\n",
              "      <td>0.0</td>\n",
              "      <td>2</td>\n",
              "      <td>113</td>\n",
              "      <td>6340</td>\n",
              "      <td>1450</td>\n",
              "      <td>0.0</td>\n",
              "      <td>23.9</td>\n",
              "      <td>0.0</td>\n",
              "      <td>7</td>\n",
              "      <td>1.800</td>\n",
              "    </tr>\n",
              "    <tr>\n",
              "      <th>...</th>\n",
              "      <td>...</td>\n",
              "      <td>...</td>\n",
              "      <td>...</td>\n",
              "      <td>...</td>\n",
              "      <td>...</td>\n",
              "      <td>...</td>\n",
              "      <td>...</td>\n",
              "      <td>...</td>\n",
              "      <td>...</td>\n",
              "      <td>...</td>\n",
              "      <td>...</td>\n",
              "      <td>...</td>\n",
              "      <td>...</td>\n",
              "      <td>...</td>\n",
              "      <td>...</td>\n",
              "    </tr>\n",
              "    <tr>\n",
              "      <th>1004</th>\n",
              "      <td>NaN</td>\n",
              "      <td>6</td>\n",
              "      <td>454.0</td>\n",
              "      <td>931.8</td>\n",
              "      <td>13.6</td>\n",
              "      <td>125.0</td>\n",
              "      <td>13</td>\n",
              "      <td>116</td>\n",
              "      <td>4150</td>\n",
              "      <td>830</td>\n",
              "      <td>15.1</td>\n",
              "      <td>1.8</td>\n",
              "      <td>1.0</td>\n",
              "      <td>15</td>\n",
              "      <td>1.681</td>\n",
              "    </tr>\n",
              "    <tr>\n",
              "      <th>1005</th>\n",
              "      <td>NaN</td>\n",
              "      <td>7</td>\n",
              "      <td>454.0</td>\n",
              "      <td>703.0</td>\n",
              "      <td>14.5</td>\n",
              "      <td>17.0</td>\n",
              "      <td>13</td>\n",
              "      <td>118</td>\n",
              "      <td>4150</td>\n",
              "      <td>830</td>\n",
              "      <td>24.6</td>\n",
              "      <td>7.9</td>\n",
              "      <td>2.0</td>\n",
              "      <td>15</td>\n",
              "      <td>1.838</td>\n",
              "    </tr>\n",
              "    <tr>\n",
              "      <th>1006</th>\n",
              "      <td>NaN</td>\n",
              "      <td>8</td>\n",
              "      <td>454.0</td>\n",
              "      <td>1124.1</td>\n",
              "      <td>14.9</td>\n",
              "      <td>45.0</td>\n",
              "      <td>18</td>\n",
              "      <td>117</td>\n",
              "      <td>4200</td>\n",
              "      <td>840</td>\n",
              "      <td>119.0</td>\n",
              "      <td>15.7</td>\n",
              "      <td>2.0</td>\n",
              "      <td>16</td>\n",
              "      <td>1.862</td>\n",
              "    </tr>\n",
              "    <tr>\n",
              "      <th>1007</th>\n",
              "      <td>NaN</td>\n",
              "      <td>9</td>\n",
              "      <td>454.0</td>\n",
              "      <td>1462.3</td>\n",
              "      <td>13.2</td>\n",
              "      <td>62.0</td>\n",
              "      <td>27</td>\n",
              "      <td>117</td>\n",
              "      <td>4400</td>\n",
              "      <td>720</td>\n",
              "      <td>138.2</td>\n",
              "      <td>30.5</td>\n",
              "      <td>6.0</td>\n",
              "      <td>18</td>\n",
              "      <td>1.883</td>\n",
              "    </tr>\n",
              "    <tr>\n",
              "      <th>1008</th>\n",
              "      <td>NaN</td>\n",
              "      <td>10</td>\n",
              "      <td>454.0</td>\n",
              "      <td>986.3</td>\n",
              "      <td>14.3</td>\n",
              "      <td>67.0</td>\n",
              "      <td>24</td>\n",
              "      <td>122</td>\n",
              "      <td>4415</td>\n",
              "      <td>721</td>\n",
              "      <td>293.0</td>\n",
              "      <td>39.8</td>\n",
              "      <td>7.0</td>\n",
              "      <td>18</td>\n",
              "      <td>1.889</td>\n",
              "    </tr>\n",
              "  </tbody>\n",
              "</table>\n",
              "<p>1009 rows × 15 columns</p>\n",
              "</div>\n",
              "      <button class=\"colab-df-convert\" onclick=\"convertToInteractive('df-6c22a5df-3b13-47a2-8e9f-d4af03b1fa99')\"\n",
              "              title=\"Convert this dataframe to an interactive table.\"\n",
              "              style=\"display:none;\">\n",
              "        \n",
              "  <svg xmlns=\"http://www.w3.org/2000/svg\" height=\"24px\"viewBox=\"0 0 24 24\"\n",
              "       width=\"24px\">\n",
              "    <path d=\"M0 0h24v24H0V0z\" fill=\"none\"/>\n",
              "    <path d=\"M18.56 5.44l.94 2.06.94-2.06 2.06-.94-2.06-.94-.94-2.06-.94 2.06-2.06.94zm-11 1L8.5 8.5l.94-2.06 2.06-.94-2.06-.94L8.5 2.5l-.94 2.06-2.06.94zm10 10l.94 2.06.94-2.06 2.06-.94-2.06-.94-.94-2.06-.94 2.06-2.06.94z\"/><path d=\"M17.41 7.96l-1.37-1.37c-.4-.4-.92-.59-1.43-.59-.52 0-1.04.2-1.43.59L10.3 9.45l-7.72 7.72c-.78.78-.78 2.05 0 2.83L4 21.41c.39.39.9.59 1.41.59.51 0 1.02-.2 1.41-.59l7.78-7.78 2.81-2.81c.8-.78.8-2.07 0-2.86zM5.41 20L4 18.59l7.72-7.72 1.47 1.35L5.41 20z\"/>\n",
              "  </svg>\n",
              "      </button>\n",
              "      \n",
              "  <style>\n",
              "    .colab-df-container {\n",
              "      display:flex;\n",
              "      flex-wrap:wrap;\n",
              "      gap: 12px;\n",
              "    }\n",
              "\n",
              "    .colab-df-convert {\n",
              "      background-color: #E8F0FE;\n",
              "      border: none;\n",
              "      border-radius: 50%;\n",
              "      cursor: pointer;\n",
              "      display: none;\n",
              "      fill: #1967D2;\n",
              "      height: 32px;\n",
              "      padding: 0 0 0 0;\n",
              "      width: 32px;\n",
              "    }\n",
              "\n",
              "    .colab-df-convert:hover {\n",
              "      background-color: #E2EBFA;\n",
              "      box-shadow: 0px 1px 2px rgba(60, 64, 67, 0.3), 0px 1px 3px 1px rgba(60, 64, 67, 0.15);\n",
              "      fill: #174EA6;\n",
              "    }\n",
              "\n",
              "    [theme=dark] .colab-df-convert {\n",
              "      background-color: #3B4455;\n",
              "      fill: #D2E3FC;\n",
              "    }\n",
              "\n",
              "    [theme=dark] .colab-df-convert:hover {\n",
              "      background-color: #434B5C;\n",
              "      box-shadow: 0px 1px 3px 1px rgba(0, 0, 0, 0.15);\n",
              "      filter: drop-shadow(0px 1px 2px rgba(0, 0, 0, 0.3));\n",
              "      fill: #FFFFFF;\n",
              "    }\n",
              "  </style>\n",
              "\n",
              "      <script>\n",
              "        const buttonEl =\n",
              "          document.querySelector('#df-6c22a5df-3b13-47a2-8e9f-d4af03b1fa99 button.colab-df-convert');\n",
              "        buttonEl.style.display =\n",
              "          google.colab.kernel.accessAllowed ? 'block' : 'none';\n",
              "\n",
              "        async function convertToInteractive(key) {\n",
              "          const element = document.querySelector('#df-6c22a5df-3b13-47a2-8e9f-d4af03b1fa99');\n",
              "          const dataTable =\n",
              "            await google.colab.kernel.invokeFunction('convertToInteractive',\n",
              "                                                     [key], {});\n",
              "          if (!dataTable) return;\n",
              "\n",
              "          const docLinkHtml = 'Like what you see? Visit the ' +\n",
              "            '<a target=\"_blank\" href=https://colab.research.google.com/notebooks/data_table.ipynb>data table notebook</a>'\n",
              "            + ' to learn more about interactive tables.';\n",
              "          element.innerHTML = '';\n",
              "          dataTable['output_type'] = 'display_data';\n",
              "          await google.colab.output.renderOutput(dataTable, element);\n",
              "          const docLink = document.createElement('div');\n",
              "          docLink.innerHTML = docLinkHtml;\n",
              "          element.appendChild(docLink);\n",
              "        }\n",
              "      </script>\n",
              "    </div>\n",
              "  </div>\n",
              "  "
            ]
          },
          "metadata": {},
          "execution_count": 34
        }
      ]
    },
    {
      "cell_type": "markdown",
      "source": [
        "Data Preprocessing"
      ],
      "metadata": {
        "id": "vEjkkjXSOis6"
      }
    },
    {
      "cell_type": "code",
      "source": [
        "clear_idx = 910\n",
        "lst_to_clear = []\n",
        "for i in range(9):\n",
        "  lst_to_clear.append(clear_idx+i)\n",
        "lst_to_clear\n",
        "df.fillna(0, inplace=True)\n",
        "df.drop(lst_to_clear, inplace = True)\n",
        "# Rename column to section_name\n",
        "df.columns = df.columns.str.replace('Unnamed: 0', 'Section_name')"
      ],
      "metadata": {
        "id": "bf5fzzNLNdWF"
      },
      "execution_count": 35,
      "outputs": []
    },
    {
      "cell_type": "code",
      "source": [
        "# Naming sections \n",
        "mul = 10\n",
        "j = 0\n",
        "for i in range(100):\n",
        "  sec_name = df.iloc[j,0]\n",
        "  df.iloc[j:j + mul, 0] = sec_name\n",
        "  j += mul\n",
        "test_frame = df.loc[df['year'] == 10]\n",
        "df.head()"
      ],
      "metadata": {
        "colab": {
          "base_uri": "https://localhost:8080/",
          "height": 206
        },
        "id": "FG9h36r9NsuP",
        "outputId": "0152937d-5f2c-412a-9b4f-fe168badb5f4"
      },
      "execution_count": 36,
      "outputs": [
        {
          "output_type": "execute_result",
          "data": {
            "text/plain": [
              "  Section_name  year  Para-1  Para-2  Para-3  Para-4  Para-5  Para-6  Para-7  \\\n",
              "0        Sec_1     1   324.0   354.5    17.0     0.0       3     117    2600   \n",
              "1        Sec_1     2   324.0   161.1    18.2     0.0       4     106    5950   \n",
              "2        Sec_1     3   324.0   170.7    18.5     0.0       4     110    5950   \n",
              "3        Sec_1     4   324.0   223.9    18.9     0.0       3     110    6150   \n",
              "4        Sec_1     5   324.0   228.2    18.4     0.0       2     113    6340   \n",
              "\n",
              "   Para-8  Para-9  Para-10  Para-11  Para-12  Para-13  \n",
              "0     400     0.0      0.0      0.0        0     1.52  \n",
              "1    1190     0.0      3.4      0.0        0     1.62  \n",
              "2    1190     0.0     21.3      0.0        4     1.68  \n",
              "3    1340     0.0     21.3      0.0        5     1.78  \n",
              "4    1450     0.0     23.9      0.0        7     1.80  "
            ],
            "text/html": [
              "\n",
              "  <div id=\"df-72af403b-e251-4318-9a39-badb5404ac92\">\n",
              "    <div class=\"colab-df-container\">\n",
              "      <div>\n",
              "<style scoped>\n",
              "    .dataframe tbody tr th:only-of-type {\n",
              "        vertical-align: middle;\n",
              "    }\n",
              "\n",
              "    .dataframe tbody tr th {\n",
              "        vertical-align: top;\n",
              "    }\n",
              "\n",
              "    .dataframe thead th {\n",
              "        text-align: right;\n",
              "    }\n",
              "</style>\n",
              "<table border=\"1\" class=\"dataframe\">\n",
              "  <thead>\n",
              "    <tr style=\"text-align: right;\">\n",
              "      <th></th>\n",
              "      <th>Section_name</th>\n",
              "      <th>year</th>\n",
              "      <th>Para-1</th>\n",
              "      <th>Para-2</th>\n",
              "      <th>Para-3</th>\n",
              "      <th>Para-4</th>\n",
              "      <th>Para-5</th>\n",
              "      <th>Para-6</th>\n",
              "      <th>Para-7</th>\n",
              "      <th>Para-8</th>\n",
              "      <th>Para-9</th>\n",
              "      <th>Para-10</th>\n",
              "      <th>Para-11</th>\n",
              "      <th>Para-12</th>\n",
              "      <th>Para-13</th>\n",
              "    </tr>\n",
              "  </thead>\n",
              "  <tbody>\n",
              "    <tr>\n",
              "      <th>0</th>\n",
              "      <td>Sec_1</td>\n",
              "      <td>1</td>\n",
              "      <td>324.0</td>\n",
              "      <td>354.5</td>\n",
              "      <td>17.0</td>\n",
              "      <td>0.0</td>\n",
              "      <td>3</td>\n",
              "      <td>117</td>\n",
              "      <td>2600</td>\n",
              "      <td>400</td>\n",
              "      <td>0.0</td>\n",
              "      <td>0.0</td>\n",
              "      <td>0.0</td>\n",
              "      <td>0</td>\n",
              "      <td>1.52</td>\n",
              "    </tr>\n",
              "    <tr>\n",
              "      <th>1</th>\n",
              "      <td>Sec_1</td>\n",
              "      <td>2</td>\n",
              "      <td>324.0</td>\n",
              "      <td>161.1</td>\n",
              "      <td>18.2</td>\n",
              "      <td>0.0</td>\n",
              "      <td>4</td>\n",
              "      <td>106</td>\n",
              "      <td>5950</td>\n",
              "      <td>1190</td>\n",
              "      <td>0.0</td>\n",
              "      <td>3.4</td>\n",
              "      <td>0.0</td>\n",
              "      <td>0</td>\n",
              "      <td>1.62</td>\n",
              "    </tr>\n",
              "    <tr>\n",
              "      <th>2</th>\n",
              "      <td>Sec_1</td>\n",
              "      <td>3</td>\n",
              "      <td>324.0</td>\n",
              "      <td>170.7</td>\n",
              "      <td>18.5</td>\n",
              "      <td>0.0</td>\n",
              "      <td>4</td>\n",
              "      <td>110</td>\n",
              "      <td>5950</td>\n",
              "      <td>1190</td>\n",
              "      <td>0.0</td>\n",
              "      <td>21.3</td>\n",
              "      <td>0.0</td>\n",
              "      <td>4</td>\n",
              "      <td>1.68</td>\n",
              "    </tr>\n",
              "    <tr>\n",
              "      <th>3</th>\n",
              "      <td>Sec_1</td>\n",
              "      <td>4</td>\n",
              "      <td>324.0</td>\n",
              "      <td>223.9</td>\n",
              "      <td>18.9</td>\n",
              "      <td>0.0</td>\n",
              "      <td>3</td>\n",
              "      <td>110</td>\n",
              "      <td>6150</td>\n",
              "      <td>1340</td>\n",
              "      <td>0.0</td>\n",
              "      <td>21.3</td>\n",
              "      <td>0.0</td>\n",
              "      <td>5</td>\n",
              "      <td>1.78</td>\n",
              "    </tr>\n",
              "    <tr>\n",
              "      <th>4</th>\n",
              "      <td>Sec_1</td>\n",
              "      <td>5</td>\n",
              "      <td>324.0</td>\n",
              "      <td>228.2</td>\n",
              "      <td>18.4</td>\n",
              "      <td>0.0</td>\n",
              "      <td>2</td>\n",
              "      <td>113</td>\n",
              "      <td>6340</td>\n",
              "      <td>1450</td>\n",
              "      <td>0.0</td>\n",
              "      <td>23.9</td>\n",
              "      <td>0.0</td>\n",
              "      <td>7</td>\n",
              "      <td>1.80</td>\n",
              "    </tr>\n",
              "  </tbody>\n",
              "</table>\n",
              "</div>\n",
              "      <button class=\"colab-df-convert\" onclick=\"convertToInteractive('df-72af403b-e251-4318-9a39-badb5404ac92')\"\n",
              "              title=\"Convert this dataframe to an interactive table.\"\n",
              "              style=\"display:none;\">\n",
              "        \n",
              "  <svg xmlns=\"http://www.w3.org/2000/svg\" height=\"24px\"viewBox=\"0 0 24 24\"\n",
              "       width=\"24px\">\n",
              "    <path d=\"M0 0h24v24H0V0z\" fill=\"none\"/>\n",
              "    <path d=\"M18.56 5.44l.94 2.06.94-2.06 2.06-.94-2.06-.94-.94-2.06-.94 2.06-2.06.94zm-11 1L8.5 8.5l.94-2.06 2.06-.94-2.06-.94L8.5 2.5l-.94 2.06-2.06.94zm10 10l.94 2.06.94-2.06 2.06-.94-2.06-.94-.94-2.06-.94 2.06-2.06.94z\"/><path d=\"M17.41 7.96l-1.37-1.37c-.4-.4-.92-.59-1.43-.59-.52 0-1.04.2-1.43.59L10.3 9.45l-7.72 7.72c-.78.78-.78 2.05 0 2.83L4 21.41c.39.39.9.59 1.41.59.51 0 1.02-.2 1.41-.59l7.78-7.78 2.81-2.81c.8-.78.8-2.07 0-2.86zM5.41 20L4 18.59l7.72-7.72 1.47 1.35L5.41 20z\"/>\n",
              "  </svg>\n",
              "      </button>\n",
              "      \n",
              "  <style>\n",
              "    .colab-df-container {\n",
              "      display:flex;\n",
              "      flex-wrap:wrap;\n",
              "      gap: 12px;\n",
              "    }\n",
              "\n",
              "    .colab-df-convert {\n",
              "      background-color: #E8F0FE;\n",
              "      border: none;\n",
              "      border-radius: 50%;\n",
              "      cursor: pointer;\n",
              "      display: none;\n",
              "      fill: #1967D2;\n",
              "      height: 32px;\n",
              "      padding: 0 0 0 0;\n",
              "      width: 32px;\n",
              "    }\n",
              "\n",
              "    .colab-df-convert:hover {\n",
              "      background-color: #E2EBFA;\n",
              "      box-shadow: 0px 1px 2px rgba(60, 64, 67, 0.3), 0px 1px 3px 1px rgba(60, 64, 67, 0.15);\n",
              "      fill: #174EA6;\n",
              "    }\n",
              "\n",
              "    [theme=dark] .colab-df-convert {\n",
              "      background-color: #3B4455;\n",
              "      fill: #D2E3FC;\n",
              "    }\n",
              "\n",
              "    [theme=dark] .colab-df-convert:hover {\n",
              "      background-color: #434B5C;\n",
              "      box-shadow: 0px 1px 3px 1px rgba(0, 0, 0, 0.15);\n",
              "      filter: drop-shadow(0px 1px 2px rgba(0, 0, 0, 0.3));\n",
              "      fill: #FFFFFF;\n",
              "    }\n",
              "  </style>\n",
              "\n",
              "      <script>\n",
              "        const buttonEl =\n",
              "          document.querySelector('#df-72af403b-e251-4318-9a39-badb5404ac92 button.colab-df-convert');\n",
              "        buttonEl.style.display =\n",
              "          google.colab.kernel.accessAllowed ? 'block' : 'none';\n",
              "\n",
              "        async function convertToInteractive(key) {\n",
              "          const element = document.querySelector('#df-72af403b-e251-4318-9a39-badb5404ac92');\n",
              "          const dataTable =\n",
              "            await google.colab.kernel.invokeFunction('convertToInteractive',\n",
              "                                                     [key], {});\n",
              "          if (!dataTable) return;\n",
              "\n",
              "          const docLinkHtml = 'Like what you see? Visit the ' +\n",
              "            '<a target=\"_blank\" href=https://colab.research.google.com/notebooks/data_table.ipynb>data table notebook</a>'\n",
              "            + ' to learn more about interactive tables.';\n",
              "          element.innerHTML = '';\n",
              "          dataTable['output_type'] = 'display_data';\n",
              "          await google.colab.output.renderOutput(dataTable, element);\n",
              "          const docLink = document.createElement('div');\n",
              "          docLink.innerHTML = docLinkHtml;\n",
              "          element.appendChild(docLink);\n",
              "        }\n",
              "      </script>\n",
              "    </div>\n",
              "  </div>\n",
              "  "
            ]
          },
          "metadata": {},
          "execution_count": 36
        }
      ]
    },
    {
      "cell_type": "markdown",
      "source": [
        "Training and Testing"
      ],
      "metadata": {
        "id": "l3cgfDo1U-Ej"
      }
    },
    {
      "cell_type": "code",
      "source": [
        "from lightgbm import LGBMRegressor\n",
        "model = LGBMRegressor(random_state=19)"
      ],
      "metadata": {
        "id": "Vb09yai_NzCk"
      },
      "execution_count": 37,
      "outputs": []
    },
    {
      "cell_type": "code",
      "source": [
        "move = 9\n",
        "def extract_xtrain(df, row_start, col_start):\n",
        "  row_end = row_start + move\n",
        "  return df.iloc[row_start:row_end, 1:10]"
      ],
      "metadata": {
        "id": "H-6b63cPN8p2"
      },
      "execution_count": 38,
      "outputs": []
    },
    {
      "cell_type": "code",
      "source": [
        "def extract_ytrain(df, row_start, col_start):\n",
        "  row_end = row_start + move\n",
        "  return df.iloc[row_start:row_end, col_start]"
      ],
      "metadata": {
        "id": "fec1YAdpOLZU"
      },
      "execution_count": 39,
      "outputs": []
    },
    {
      "cell_type": "code",
      "source": [
        "def extract_xtest(df, row_start):\n",
        "  row_end = row_start + move\n",
        "  return df.iloc[row_end, 1:10].to_numpy()"
      ],
      "metadata": {
        "id": "Et-luAZzOP_Q"
      },
      "execution_count": 40,
      "outputs": []
    },
    {
      "cell_type": "code",
      "source": [
        "def extract_ytest(df, row_start, col_start):\n",
        "  row_end = row_start + move\n",
        "  return df.iloc[row_end, col_start]"
      ],
      "metadata": {
        "id": "swIE3qZ1OeEH"
      },
      "execution_count": 41,
      "outputs": []
    },
    {
      "cell_type": "code",
      "source": [
        "def calcuate_lmse(predict_val, test_val):\n",
        "  pred_diff = predict_val - test_val\n",
        "  return (pred_diff)**2"
      ],
      "metadata": {
        "id": "5O88SZXmVVZU"
      },
      "execution_count": 42,
      "outputs": []
    },
    {
      "cell_type": "code",
      "source": [
        "column_name = [\"Para-\"+str(i) for i in range(9,14)]\n",
        "XY = []\n",
        "def getXYsplit(df, row_start, row_end):\n",
        "  XY = []\n",
        "  XY.append(extract_xtrain(df, row_start, row_end))\n",
        "  XY.append(extract_ytrain(df, row_start, row_end))\n",
        "  XY.append(extract_xtest(df,row_start))\n",
        "  XY.append(extract_ytest(df,row_start,row_end))\n",
        "  return XY"
      ],
      "metadata": {
        "id": "fwpogE7yVYku"
      },
      "execution_count": 43,
      "outputs": []
    },
    {
      "cell_type": "code",
      "source": [
        "from collections import defaultdict"
      ],
      "metadata": {
        "id": "w-rtyHC8Vb45"
      },
      "execution_count": 44,
      "outputs": []
    },
    {
      "cell_type": "code",
      "source": [
        "pred_values = defaultdict(lambda : [])"
      ],
      "metadata": {
        "id": "7onFZzoQVe3R"
      },
      "execution_count": 45,
      "outputs": []
    },
    {
      "cell_type": "code",
      "source": [
        "from sklearn.metrics import mean_squared_error"
      ],
      "metadata": {
        "id": "ojNOY25eVht_"
      },
      "execution_count": 46,
      "outputs": []
    },
    {
      "cell_type": "code",
      "source": [
        "target_col = [10,11,12,13,14]\n",
        "root_mean_square_error = []\n",
        "total_count = 0\n",
        "curr_section = 0\n",
        "total_squared_error = 0\n",
        "max_val = 1000\n",
        "for j in target_col:\n",
        "  local_squared_error = 0\n",
        "  l_count = 0\n",
        "  LXY = [0,0,0,0]\n",
        "  for i in range(0, max_val, 10):\n",
        "    LXY = getXYsplit(df,i,j)\n",
        "    x_train, y_train,x_test,y_test = LXY[0],LXY[1],LXY[2],LXY[3]\n",
        "\n",
        "    # fit the model and predict\n",
        "    model.fit(x_train, y_train)\n",
        "    ypred = model.predict(x_test.reshape(1,-1))[0]\n",
        "\n",
        "    # store the predicted values\n",
        "    pred_values[column_name[curr_section]].append(ypred)\n",
        "    \n",
        "    # store squared difference for RMSE\n",
        "\n",
        "    # local_squared_error = calcuate_lmse(ypred, y_test) + local_squared_error\n",
        "    total_squared_error = calcuate_lmse(ypred, y_test) + total_squared_error\n",
        "    l_count += 1\n",
        "    total_count += 1\n",
        "\n",
        "  # root_mean_square_error.append(local_squared_error)\n",
        "  curr_section += 1\n",
        "predicted_df = pd.DataFrame.from_dict(pred_values)"
      ],
      "metadata": {
        "id": "ainzmpilVour"
      },
      "execution_count": 47,
      "outputs": []
    },
    {
      "cell_type": "markdown",
      "source": [
        "RMSE"
      ],
      "metadata": {
        "id": "u9UdGsAEVv4r"
      }
    },
    {
      "cell_type": "code",
      "source": [
        "total_rmse_by_n = total_squared_error/total_count\n",
        "final_rmse = total_rmse_by_n**0.5\n",
        "\n",
        "print(\"The RMSE is \" + str(final_rmse))"
      ],
      "metadata": {
        "colab": {
          "base_uri": "https://localhost:8080/"
        },
        "id": "hbhwbCyzVuKl",
        "outputId": "81cdb996-4bc7-43ce-c07b-ca8522a6b524"
      },
      "execution_count": 48,
      "outputs": [
        {
          "output_type": "stream",
          "name": "stdout",
          "text": [
            "The RMSE is 68.76256275509705\n"
          ]
        }
      ]
    },
    {
      "cell_type": "markdown",
      "source": [
        "Graphs"
      ],
      "metadata": {
        "id": "ebHdxHN9V2Iv"
      }
    },
    {
      "cell_type": "code",
      "source": [
        "import random\n",
        "ind = []\n",
        "for i in range(40):\n",
        "    ind.append(random.randint(0,100))"
      ],
      "metadata": {
        "id": "0C8Fe3AmV335"
      },
      "execution_count": 49,
      "outputs": []
    },
    {
      "cell_type": "code",
      "source": [
        "for i in range(5):\n",
        "    plt.figure(figsize=(6,6))\n",
        "    true_value = predicted_df.iloc[ind, i]\n",
        "    predicted_value = test_frame.iloc[ind, i]\n",
        "    plt.scatter(true_value, predicted_value, c='crimson')\n",
        "    # plt.yscale('log')\n",
        "    # plt.xscale('log')\n",
        "    x_value = []\n",
        "    for j in range(len(true_value)):\n",
        "      x_value.append(j+1)\n",
        "    plt.plot(x_value,predicted_value, linestyle = 'dotted', label = 'predicted')\n",
        "    plt.plot(x_value,true_value, linestyle = 'dotted', label = 'orginial')\n",
        "    plt.title(predict_col_names[i])\n",
        "    plt.xlabel('True Values', fontsize=15)\n",
        "    plt.ylabel('Predictions', fontsize=15)\n",
        "    plt.axis('equal')\n",
        "    plt.show()"
      ],
      "metadata": {
        "colab": {
          "base_uri": "https://localhost:8080/",
          "height": 1000
        },
        "id": "aYGT5vaSWGav",
        "outputId": "fb1aa72e-7612-4d3d-e25b-e63e3019b3ed"
      },
      "execution_count": 52,
      "outputs": [
        {
          "output_type": "display_data",
          "data": {
            "text/plain": [
              "<Figure size 432x432 with 1 Axes>"
            ],
            "image/png": "[encoded data removed]"
          },
          "metadata": {
            "needs_background": "light"
          }
        },
        {
          "output_type": "display_data",
          "data": {
            "text/plain": [
              "<Figure size 432x432 with 1 Axes>"
            ],
            "image/png": "[encoded data removed]"
          },
          "metadata": {
            "needs_background": "light"
          }
        },
        {
          "output_type": "display_data",
          "data": {
            "text/plain": [
              "<Figure size 432x432 with 1 Axes>"
            ],
            "image/png": "[encoded data removed]"
          },
          "metadata": {
            "needs_background": "light"
          }
        },
        {
          "output_type": "display_data",
          "data": {
            "text/plain": [
              "<Figure size 432x432 with 1 Axes>"
            ],
            "image/png": "[encoded data removed]"
          },
          "metadata": {
            "needs_background": "light"
          }
        },
        {
          "output_type": "display_data",
          "data": {
            "text/plain": [
              "<Figure size 432x432 with 1 Axes>"
            ],
            "image/png": "[encoded data removed]"
          },
          "metadata": {
            "needs_background": "light"
          }
        }
      ]
    }
  ]
}